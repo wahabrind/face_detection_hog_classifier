{
 "cells": [
  {
   "cell_type": "markdown",
   "metadata": {},
   "source": [
    "# On single image"
   ]
  },
  {
   "cell_type": "code",
   "execution_count": 8,
   "metadata": {},
   "outputs": [
    {
     "data": {
      "text/plain": [
       "dlib.rectangles"
      ]
     },
     "execution_count": 8,
     "metadata": {},
     "output_type": "execute_result"
    }
   ],
   "source": [
    "import cv2\n",
    "import dlib\n",
    "\n",
    "detector=dlib.get_frontal_face_detector()\n",
    "\n",
    "img=cv2.imread('./image.jpg')\n",
    "\n",
    "#view image\n",
    "cv2.imshow('aa',img)\n",
    "cv2.waitKey(0)\n",
    "cv2.destroyAllWindows()\n",
    "\n",
    "#before applying classfier we convert into grayscale\n",
    "gray=cv2.cvtColor(img,cv2.COLOR_BGR2GRAY)\n",
    "\n",
    "#test classifier\n",
    "faces = detector(gray,1)\n",
    "\n",
    "for face in faces:\n",
    "    x1 = face.left()\n",
    "    y1 = face.top()\n",
    "    x2 = face.right()\n",
    "    y2 = face.bottom() \n",
    "\n",
    "cv2.rectangle(img,(x1,y1),(x2,y2),(255,0,0),2)\n",
    "cv2.imshow('aa',img)\n",
    "cv2.waitKey(0)\n",
    "cv2.destroyAllWindows()\n",
    "\n",
    "#we get numpy array from this function which contain x,y of top left corner and height and width\n",
    "type(faces)\n",
    "\n",
    "\n"
   ]
  },
  {
   "cell_type": "markdown",
   "metadata": {},
   "source": [
    "# ON Live Camera"
   ]
  },
  {
   "cell_type": "code",
   "execution_count": 18,
   "metadata": {},
   "outputs": [],
   "source": [
    "import cv2\n",
    "import dlib\n",
    "import time\n",
    "\n",
    "detector=dlib.get_frontal_face_detector()\n",
    "\n",
    "\n",
    "#creating videocapture object\n",
    "cap=cv2.VideoCapture('./video.mp4')\n",
    "\n",
    "frames=0\n",
    "#infinite loop for frames\n",
    "while True:\n",
    "        \n",
    "    start=time.time()\n",
    "    \n",
    "    #returns bool value and frame\n",
    "    ret,frame=cap.read()\n",
    "    \n",
    "    frames+=1\n",
    "    gray=cv2.cvtColor(frame,cv2.COLOR_BGR2GRAY)\n",
    "    \n",
    "    faces = detector(gray,1)\n",
    "\n",
    "    for face in faces:\n",
    "        x1 = face.left()\n",
    "        y1 = face.top()\n",
    "        x2 = face.right()\n",
    "        y2 = face.bottom() \n",
    "    cv2.rectangle(frame,(x1,y1),(x2,y2),(255,0,0),2)\n",
    "    \n",
    "    end=time.time()\n",
    "    diff=end-start\n",
    "    fps=int(frames/diff)\n",
    "    \n",
    "    cv2.putText(frame,'fps:{}'.format(fps), (10,50), cv2.FONT_HERSHEY_SIMPLEX, 2, 255)\n",
    "    cv2.imshow('aa',frame)\n",
    "    \n",
    "    #press q to exit\n",
    "    if cv2.waitKey(1) & 0xFF == ord('q'):\n",
    "        break\n",
    "    frames=0\n",
    "cap.release()\n",
    "cv2.destroyAllWindows()\n",
    "    "
   ]
  }
 ],
 "metadata": {
  "kernelspec": {
   "display_name": "Python 3",
   "language": "python",
   "name": "python3"
  },
  "language_info": {
   "codemirror_mode": {
    "name": "ipython",
    "version": 3
   },
   "file_extension": ".py",
   "mimetype": "text/x-python",
   "name": "python",
   "nbconvert_exporter": "python",
   "pygments_lexer": "ipython3",
   "version": "3.7.1"
  }
 },
 "nbformat": 4,
 "nbformat_minor": 2
}
